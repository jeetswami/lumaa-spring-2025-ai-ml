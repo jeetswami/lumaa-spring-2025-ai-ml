{
 "cells": [
  {
   "cell_type": "markdown",
   "id": "aae8f4ef",
   "metadata": {},
   "source": [
    "# Importing Library"
   ]
  },
  {
   "cell_type": "code",
   "execution_count": 1,
   "id": "3cb3ffae",
   "metadata": {},
   "outputs": [],
   "source": [
    "import pandas as pd\n",
    "from sklearn.feature_extraction.text import TfidfVectorizer\n",
    "from sklearn.metrics.pairwise import cosine_similarity"
   ]
  },
  {
   "cell_type": "markdown",
   "id": "248b4d1e",
   "metadata": {},
   "source": [
    "# Ioading Dataset"
   ]
  },
  {
   "cell_type": "code",
   "execution_count": 2,
   "id": "839a15d9",
   "metadata": {},
   "outputs": [],
   "source": [
    "df1 = pd.read_csv('movies.csv')    # Calling Dataset"
   ]
  },
  {
   "cell_type": "markdown",
   "id": "942a4493",
   "metadata": {},
   "source": [
    "# Building Vectors"
   ]
  },
  {
   "cell_type": "code",
   "execution_count": 3,
   "id": "472e91c6",
   "metadata": {},
   "outputs": [],
   "source": [
    "# Fill NaN values with empty strings in overview, genres, keywords, cast, directors columns\n",
    "\n",
    "df1['overview'] = df1['overview'].fillna('')\n",
    "df1['genres'] = df1['genres'].fillna('')\n",
    "df1['keywords'] = df1['keywords'].fillna('')\n",
    "df1['cast'] = df1['cast'].fillna('')\n",
    "df1['director'] = df1['director'].fillna('')\n",
    "\n",
    "# Create 'combined_features' with all relevant text fields making them all lowercase\n",
    "df1['combined_features'] = df1['overview'].str.lower() + ' ' + df1['genres'].str.lower() + ' ' + df1['keywords'].str.lower() + ' ' + df1['cast'].str.lower() + ' ' + df1['director'].str.lower()"
   ]
  },
  {
   "cell_type": "code",
   "execution_count": 4,
   "id": "b1615feb",
   "metadata": {},
   "outputs": [],
   "source": [
    "# TF-IDF Vectorizer with optimized settings\n",
    "\n",
    "tfidf = TfidfVectorizer(stop_words='english', max_features=10000, ngram_range=(1,2))\n",
    "\n",
    "# Convert text data into a numerical representation for similarity computations\n",
    "tfidf_matrix = tfidf.fit_transform(df1['combined_features'])  \n",
    "\n",
    "# Compute cosine similarity\n",
    "cosine_sim = cosine_similarity(tfidf_matrix, tfidf_matrix)\n",
    "\n",
    "# Map titles to indices\n",
    "indices = pd.Series(df1.index, index=df1['title']).drop_duplicates()"
   ]
  },
  {
   "cell_type": "code",
   "execution_count": 5,
   "id": "1e34bb6e",
   "metadata": {},
   "outputs": [],
   "source": [
    "# Function for user-input-based recommendations\n",
    "def movie_recommendations(user_input, df1):\n",
    "    user_tfidf = tfidf.transform([user_input])\n",
    "    \n",
    "    # Compute similarity\n",
    "    cosine_sim_user_input = cosine_similarity(user_tfidf, tfidf_matrix)\n",
    "    similar_scores = list(enumerate(cosine_sim_user_input[0]))\n",
    "    \n",
    "    # Sort by similarity\n",
    "    similar_scores = sorted(similar_scores, key=lambda x: x[1], reverse=True)\n",
    "\n",
    "    # Remove first result if it's an exact match\n",
    "    if similar_scores[0][1] == 1.0:\n",
    "        similar_scores = similar_scores[1:6]\n",
    "    else:\n",
    "        similar_scores = similar_scores[:5]\n",
    "\n",
    "    # Extracting movie indices\n",
    "    movie_indices = [i[0] for i in similar_scores]\n",
    "    similarity_scores = [i[1] for i in similar_scores]\n",
    "\n",
    "    # Get recommended movies\n",
    "    recommended_movies = df1.loc[movie_indices, ['title']].copy()\n",
    "\n",
    "    return recommended_movies"
   ]
  },
  {
   "cell_type": "markdown",
   "id": "3ca5744f",
   "metadata": {},
   "source": [
    "# Result Sections"
   ]
  },
  {
   "cell_type": "code",
   "execution_count": 6,
   "id": "6612e42e",
   "metadata": {},
   "outputs": [
    {
     "name": "stdout",
     "output_type": "stream",
     "text": [
      "Please enter your input: I like batman movies\n",
      "                                        title\n",
      "428                            Batman Returns\n",
      "3854  Batman: The Dark Knight Returns, Part 2\n",
      "880                                Grindhouse\n",
      "65                            The Dark Knight\n",
      "3                       The Dark Knight Rises\n"
     ]
    }
   ],
   "source": [
    "user_input = input(\"Please enter your input: \")\n",
    "print(movie_recommendations(user_input, df1))"
   ]
  },
  {
   "cell_type": "code",
   "execution_count": null,
   "id": "4a48032c",
   "metadata": {},
   "outputs": [],
   "source": []
  }
 ],
 "metadata": {
  "kernelspec": {
   "display_name": "Python 3 (ipykernel)",
   "language": "python",
   "name": "python3"
  },
  "language_info": {
   "codemirror_mode": {
    "name": "ipython",
    "version": 3
   },
   "file_extension": ".py",
   "mimetype": "text/x-python",
   "name": "python",
   "nbconvert_exporter": "python",
   "pygments_lexer": "ipython3",
   "version": "3.10.9"
  }
 },
 "nbformat": 4,
 "nbformat_minor": 5
}
